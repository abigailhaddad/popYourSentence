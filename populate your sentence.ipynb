{
 "cells": [
  {
   "cell_type": "markdown",
   "metadata": {},
   "source": [
    "## Populating Your Sentence Using a DataFrame"
   ]
  },
  {
   "cell_type": "code",
   "execution_count": 17,
   "metadata": {
    "collapsed": false
   },
   "outputs": [],
   "source": [
    "import xlrd \n",
    "import pandas as pd\n",
    "import os\n",
    "\n",
    "def readInSentenceToPopulate(nameOfFile):\n",
    "    #this is an excel file with the the sentence you want to populate in the top, left cell\n",
    "    #each thing you want to replace should be have the same name as a column\n",
    "    wb = xlrd.open_workbook(nameOfFile) #it's possible you need the full path name, IDK \n",
    "    sheet = wb.sheet_by_index(0) \n",
    "    sentenceToPopulate=sheet.cell_value(0, 0) \n",
    "    return(sentenceToPopulate)\n",
    "    \n",
    "def readInSourceData(nameOfFile):\n",
    "    #this is an excel file with columns for data elements\n",
    "    #each column name should line up with the things you want to replace in the sentence\n",
    "    sourceData=pd.read_excel(nameOfFile)\n",
    "    return(sourceData)\n",
    "    \n",
    "def populateSentenceWithData(series,sentenceToPopulate):\n",
    "    seriesIndex=list(series.index)\n",
    "    for i in range(0, len(series)):\n",
    "        sentenceToPopulate=sentenceToPopulate.replace(seriesIndex[i], series[i])\n",
    "    return(sentence)\n",
    "        \n",
    "def makeDFAllSentences(df, sentenceToPopulate):\n",
    "    listOfSentences=[]\n",
    "    for number in range(0, len(df)):\n",
    "        listOfSentences.append(populateSentenceWithData(df.iloc[number],sentenceToPopulate))\n",
    "    return(listOfSentences)\n",
    "\n",
    "def putItTogether(nameOfSentenceFile, nameOfSourceDataFile):\n",
    "    sentenceToPopulate=readInSentenceToPopulate(nameOfSentenceFile)\n",
    "    df=readInSourceData(nameOfSourceDataFile)\n",
    "    listOfSentences=makeDFAllSentences(df, sentenceToPopulate)\n",
    "    pd.DataFrame(listOfSentences).to_excel('output.xlsx', header=False, index=False)\n",
    "    \n",
    "\n",
    "directory=r\"C:\\Users\\\"  #obviously swap this out\n",
    "os.chdir(directory)\n",
    "putItTogether(nameOfSentenceFile, nameOfSourceDataFile) #put your file names here, include \".xlsx\""
   ]
  }
 ],
 "metadata": {
  "kernelspec": {
   "display_name": "Python 3",
   "language": "python",
   "name": "python3"
  },
  "language_info": {
   "codemirror_mode": {
    "name": "ipython",
    "version": 3
   },
   "file_extension": ".py",
   "mimetype": "text/x-python",
   "name": "python",
   "nbconvert_exporter": "python",
   "pygments_lexer": "ipython3",
   "version": "3.6.0"
  }
 },
 "nbformat": 4,
 "nbformat_minor": 2
}
